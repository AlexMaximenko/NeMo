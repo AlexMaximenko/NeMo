{
 "cells": [
  {
   "cell_type": "markdown",
   "id": "c3217a15",
   "metadata": {},
   "source": [
    "# Synthetic Data Generation by Megatron GPT\n",
    "\n",
    "Big data, new algorithms and fast computers are the 3 main factors that make the modern AI revolution possible. Data poses a big challenge for enterprises for various reasons: difficulty  of data labeling, strong data governance, limited data availability etc. Synthetic data generation is proposed as a solution to the data problem as it directly addresses the data challenges. Two popular generative models like  Variational Auto-Encoder [VAE](https://en.wikipedia.org/wiki/Variational_autoencoder) and Generative Adversarial Network [GAN](https://en.wikipedia.org/wiki/Generative_adversarial_network) models have achieved some success in the past. However, a good generative model should generate the data following the same distribution as the training data. There are some known flaws with the VAE and GAN models for synthetic data generation. Most prominently, the [mode collapse problem](https://developers.google.com/machine-learning/gan/problems) in the GAN model causes the generated data to miss some modes in the training data distribution. While the VAE has the difficulty of generating sharp data points due to the non-autoregressive loss.\n",
    "\n",
    "Recently, [Transformer models](https://arxiv.org/abs/1706.03762) achieved huge success in the natural language processing domain.  The self-attention encoding and decoding architecture of the transformer model is proven to be accurate in modeling the data distribution and scalable to large datasets. [OpenAI’s GPT3](https://openai.com/blog/gpt-3-apps/) uses the decoder part of the transformer model and has 175B parameters. It has been widely used across varying categories and industries, from productivity and education to creativity and games. GPT3 turns out to be a superior generative model. In this tutorial, we are interested in exploring the ideas of applying the GPT model for synthetic data generation. \n",
    "\n",
    "Unlike typical neural networks, GPT models are usually large in size. It is challenging to fit a large GPT model into a single GPU. Luckily, [NeMo Megatron](https://github.com/NVIDIA/NeMo) is an open source tool that is capable of efficiently training very large (hundreds of billions of parameters) language models with both model and data parallelism.  It is easy to use too. In the following sections, we will show how to train a GPT model step by step to generate synthetic credit card data.\n"
   ]
  },
  {
   "cell_type": "markdown",
   "id": "8c72dc42",
   "metadata": {},
   "source": [
    "### Get the Credit Card Transaction Data \n",
    "\n",
    "The synthetic credit card transaction dataset is provided at [IBM TabFormer Github repo](https://github.com/IBM/TabFormer). Go ahead to download it at this [direct link](https://ibm.box.com/v/tabformer-data).\n",
    " "
   ]
  },
  {
   "cell_type": "code",
   "execution_count": null,
   "id": "b3260e6c",
   "metadata": {},
   "outputs": [],
   "source": [
    "!wget https://public.boxcloud.com/d/1/b1!d9uc651aaxpo06Wit6Vq7jzxZXCw6oj-Vv0_bvD8Q6CMH3a13XoAjqoIBxGIVrVtDGOSfdxu0Z5VK4OG81TLh_hmH514MohzeK4-yngCDoujpFFXuNEGj9bPE1yjcyHnG9xU0Xry8BFvujoSwf9xDIBcZQlrsbkFrmA-6dkBuXiee3h6lHByl_DYsXer7XWh4t2jzSdPP0SRHFkOrf5FZ26RyjEccQA81nMWQsOtZ8X2Y3NGzzoRsGXNOnQyqf1-gVxfaux8LCo78PpHD667hsGHAUE_fMKIpjPn6hBmEo0-ODkjo2T9_uu6TDmMe1NcJ0uCwNunvlS1VEQypy9ErZwRZg32JTzsX20Ni2q_DgLNNzvZBWywfDpZu7pXyF-oXlp8IiZa1bUO2MViTfmReoT-dr0lta-WZE0FOur8wT7WGAwZnWKtKwHAaX4dFuEWdOkP8vYJOK6hb9RNKcC8cJPbAuxSddNtGI_Nw5U1oF89Z9XS3JLZCZ5IIIPx71eWkh-PA-GEztisFPIim9B5NqjATVDbFI5mX7u61h1UQqRxCLpmQkgCBPSOpAqDIBTVeDOT9N6HEAL8ssARW0K5SHPi6BZP08zcIwuso2JFFzbIq-0PN_3IUDO5wXjPb90axb82TtLgqdB3uQrK_00HWPo6AlvqlvIj8GhlEFbgrgmoNDMHDoxWIvAKMCNiXY-N1C22xUwbKMhUSG8jo4SimJCg76yVe5At3PF4T7IkOrGc3xjOjrRpF-9V3Astq52MH2LANkfha0mI0KNzMIS8rQ07Y2yKeFEl-4Kr8GIRdwWScBiiDncpkEeYyfX8a8meZ_F2IY-qv-lasN55O-LO1xwHt3gUGkSQoBsILBBAbkEt0N6TQh8xfVKhqmEvpYpTnMWk0nmDE7rbxfsGxHUTPzyMD0B_WlcVjaAsfZA7Htp2RBrR5W-gPlgBqqP-L4m-rq9LqwFPuTxB9htNvzS6TDO8J8Eqk3ueqvFM4dgLW9u62ndGFoNpfk6FGv8n89PsaN0wCVVmTB6TLjSQk0B6PkPc6A3HgPmG4EQEUpSy9P_fkiRlTn9-YjqW8m2iMkE9wcKZ9zDm--Q9QpxzHiZ-HED1dYTOCyBa0FfrNtC7Ms1Y7cR4HvxU0Ig5szkD5aJ7T4ARz2hZPhGkwJABKm0vv7yr_QlRpwXVo6jRiEEg3Pvrq4hkcAZ-dLXT77KUhU-41_JaZlYlUayBh4Dz5aTkQavmvuJ0keYRJFsw-QXHDZn3wqc747g2PNmbh0ZGn0BAbROdn0AfqzoAq5qreYC6q1OJOsSsDY9vkhw9CvIhIiEmJ1k./download -O data_file.tgz\n",
    "!tar xfvz data_file.tgz"
   ]
  },
  {
   "cell_type": "markdown",
   "id": "79154a9e",
   "metadata": {},
   "source": [
    "### Train Megatron GPT\n",
    "```\n",
    "                       +-----------+\n",
    "      +--------------->|Tokenizer  |\n",
    "      |                +-----+-----+\n",
    "      |                      |\n",
    "+-----+-----+          +-----v--------+      +---------+\n",
    "|  Raw Data +--------->| Preprocess   +----->|Pretrain |\n",
    "|           |          |              |      +-----+---+\n",
    "+-----------+          +--------------+            |\n",
    "                                                   |\n",
    "                                           +-------v----------+\n",
    "                                           |  Inference       |\n",
    "                                           | (Text Generation)|\n",
    "                                           +------------------+\n",
    "```\n",
    "As shown in the figure above, to efficiently tokenize the text, we train a tokenizer for the provided training data.  As NeMo Megatron only cares about sequences of tokens, a preprocess step is used to convert the raw text data into sequences of token index. It results in one binary file and an index file.  The next step is the most time consuming pre-training step in which sequences of tokens are fed into the NeMo Megatron GPT to predict the next tokens. The prediction error is used as the loss to train the GPT weights. After training the GPT model, it can be put into an inference mode to generate synthetic data following the same distribution as the training dataset. \n",
    "\n",
    "### Convert the CSV File to JSON\n",
    "\n",
    "First let's import the necessary Python libraries for the tutorial."
   ]
  },
  {
   "cell_type": "code",
   "execution_count": null,
   "id": "c4a08689",
   "metadata": {},
   "outputs": [],
   "source": [
    "import pandas as pd\n",
    "from nemo.collections.common.tokenizers.column_coder import ColumnCodes\n",
    "from omegaconf import OmegaConf\n",
    "import pickle\n",
    "from pandas.api.types import is_string_dtype\n",
    "from nemo.collections.common.tokenizers.tabular_tokenizer import TabularTokenizer\n",
    "import json\n",
    "import wget"
   ]
  },
  {
   "cell_type": "code",
   "execution_count": null,
   "id": "abaa1f80",
   "metadata": {},
   "outputs": [],
   "source": [
    "BRANCH = 'main'\n",
    "DATA_PATH='.'\n",
    "TRANSACTIONS=DATA_PATH+'/card_transaction.v1.csv'\n",
    "#CHECKPOINTS='/chk_points'\n",
    "CHECKPOINTS=DATA_PATH+'/checkpoints'\n",
    "CC_OUTPUT_P=DATA_PATH+'/credit_card_coder.pickle'\n",
    "CC_OUTPUT_J=DATA_PATH+'/credit_card.jn'"
   ]
  },
  {
   "cell_type": "code",
   "execution_count": null,
   "id": "9a4faf70",
   "metadata": {},
   "outputs": [],
   "source": [
    "print (TRANSACTIONS, CHECKPOINTS, CC_OUTPUT_P, CC_OUTPUT_J)"
   ]
  },
  {
   "cell_type": "markdown",
   "id": "7e0bbc89",
   "metadata": {},
   "source": [
    "After decompressing the tar file,  we load the dataset into pandas dataframe and examine the top few rows."
   ]
  },
  {
   "cell_type": "code",
   "execution_count": null,
   "id": "8aa48317",
   "metadata": {},
   "outputs": [],
   "source": [
    "df = pd.read_csv(TRANSACTIONS)\n",
    "df.head()"
   ]
  },
  {
   "cell_type": "markdown",
   "id": "1ff1d46f",
   "metadata": {},
   "source": [
    "In the following preprocessing step, We fix the `Amount` column that is not a number, convert the `Time` into `hour` and `minutes` and replace the `,` character with space so we can use `,` as delimiter."
   ]
  },
  {
   "cell_type": "code",
   "execution_count": null,
   "id": "33980221",
   "metadata": {},
   "outputs": [],
   "source": [
    "# remove the dollar string and convert amount to float\n",
    "df['Amount'] = df['Amount'].str.replace('$', '').astype('float')\n",
    "# fix the zip column\n",
    "df['Zip'] = pd.array([None if pd.isna(x) else int(x) for x in df['Zip']])\n",
    "\n",
    "# parse the time into minute and second\n",
    "df['Hour'] = df['Time'].str[0:2]\n",
    "df['Minute'] = df['Time'].str[-2:]\n",
    "# remove the 'Time' Column once it is parsed\n",
    "del df['Time']\n",
    "# all the columns used for later processing \n",
    "all_columns = ['User', 'Year', 'Month', 'Day', 'Hour', 'Minute', 'Card', 'Amount', 'Use Chip',\n",
    "           'Merchant Name', 'Merchant City', 'Merchant State', 'Zip', 'MCC',\n",
    "           'Errors?', 'Is Fraud?']\n",
    "# these are the columns used to train the model\n",
    "columns = ['Year', 'Month', 'Day', 'Hour', 'Minute', 'Card', 'Amount', 'Use Chip',\n",
    "           'Merchant Name', 'Merchant City', 'Merchant State', 'Zip', 'MCC',\n",
    "           'Errors?', 'Is Fraud?']\n",
    "\n",
    "float_columns = ['Amount']\n",
    "category_columns = ['Year', 'Month', 'Day', 'Hour', 'Minute', 'Card', 'Use Chip',\n",
    "                    'Merchant Name', 'Merchant City', 'Merchant State', 'MCC',\n",
    "                    'Errors?', 'Is Fraud?']\n",
    "integer_columns = ['Zip']\n",
    "\n",
    "for col in category_columns:\n",
    "    if is_string_dtype(df[col].dtype):\n",
    "        df[col] = df[col].str.replace(',', ' ')\n",
    "\n",
    "# after preprocessing\n",
    "df = df[all_columns]\n",
    "df.head()"
   ]
  },
  {
   "cell_type": "markdown",
   "id": "aa356012",
   "metadata": {},
   "source": [
    "There are 24M records with 12 fields. We need to convert the structured tabular data into a format that Megatron GPT can consume. The Megatron GPT uses training data in a loose json format, with one json containing a text sample per line. For example:\n",
    "```json\n",
    "{\"text\": \"The quick brown fox\"}\n",
    "{\"text\": \"jumps over the lazy dog\"}\n",
    "```\n",
    "We can concat each fields of the transactions together like:\n",
    "```json\n",
    "{\"text\": \"0,0,2002,9,1,06:21,$134.09,Swipe Transaction,3527213246127876953,La Verne,CA,91750.0,5300,NaN,No\\n0,0,2002,9,1,06:42,$38.48,Swipe,Transaction,-727612092139916043,Monterey Park,CA,91754.0,5411,NaN,No...\"}\n",
    "...\n",
    "```\n",
    "In this way, the tabular data is converted into NLP text corpus. It is natural to select the generic GPT BPE tokenizer to convert the text into tokens. However, there are a few problems of using this approach. When GPT BPE tokenizer splits the text into tokens, the number of tokens are usually not fixed for the same column at different rows, because the number is determined by the occurrence frequencies of the individual sub-tokens. This means the structure information is lost if we use the NLP tokenizer. Another problem with the NLP tokenizer is the long string consists of a large number of tokens, which is wasteful considering the Megatron GPT has limited capacity of modeling the sequences of tokens. For example the \"Mechant Name\" \"3527213246127876953\" need at least 7 tokens to code it ([35][27][213][246][127][876][953]). \n",
    "\n",
    "As shown in the [TabFormer paper](https://arxiv.org/abs/2011.01843), a good solution is to build a specialized tokenizer for the tabular data that considers the table structural information. The TabFormer uses a single token for each of the columns which can cause either accuracy loss if the number of tokens is small for the column, or weak generalization if the number of tokens is too large. We improve it by using multiple tokens to code the columns. For example, the floating number \"134.09\" can be tokenized into multiple integers.\n",
    "\n",
    "The following code trains a special encoder/decoder used in the tokenizer. It uses FloatCode for the \"Amount\" column, and categorical code for the rest of the columns. The trained coder and decoder are saved into a file that can be loaded later. We choose to use 3 tokens to encode the floating numbers in this example."
   ]
  },
  {
   "cell_type": "code",
   "execution_count": null,
   "id": "16298d39",
   "metadata": {},
   "outputs": [],
   "source": [
    "\n",
    "tab_structure = []\n",
    "for c in columns:\n",
    "    if c in float_columns:\n",
    "        item = {\n",
    "            \"name\": c,\n",
    "            \"code_type\": \"float\",\n",
    "            \"args\": {\n",
    "                \"code_len\": 3,  # number of tokens used to code the column\n",
    "                \"base\": 32,   # the positional base number. ie. it uses 32 tokens for one digit\n",
    "                \"fillall\": True, # whether to use full base number for each token or derive it from the data.\n",
    "                \"hasnan\": False, # can it handles nan or not\n",
    "                \"transform\": \"yeo-johnson\" # can be ['yeo-johnson', 'quantile', 'robust'], check https://scikit-learn.org/stable/modules/classes.html#module-sklearn.preprocessing \n",
    "            }\n",
    "        }\n",
    "    elif c in integer_columns:\n",
    "        item = {\n",
    "            \"name\": c,\n",
    "            \"code_type\": \"int\",\n",
    "            \"args\": {\n",
    "                \"code_len\": 3,  # number of tokens used to code the column\n",
    "                \"base\": 47,   # the positional base number. ie. it uses 32 tokens for one digit\n",
    "                \"fillall\": True, # whether to use full base number for each token or derive it from the data.\n",
    "                \"hasnan\": True, # can it handles nan or not\n",
    "            }\n",
    "        }\n",
    "    else:\n",
    "        item = {\n",
    "            \"name\": c,\n",
    "            \"code_type\": \"category\",\n",
    "        }\n",
    "    tab_structure.append(item)\n",
    "print(OmegaConf.to_yaml(tab_structure))\n",
    "print(columns)\n",
    "\n",
    "example_arrays = {}\n",
    "for col in tab_structure:\n",
    "    col_name = col['name']\n",
    "    if col_name in category_columns:\n",
    "        example_arrays[col_name] = [i.strip() for i in df[col_name].astype(str).unique()]\n",
    "    else:\n",
    "        example_arrays[col_name] = df[col_name].dropna().unique()\n",
    "cc = ColumnCodes.get_column_codes(tab_structure, example_arrays)\n",
    "print('each row uses', sum(cc.sizes)+ 1, 'tokens')\n",
    "with open(CC_OUTPUT_P, 'wb') as handle:\n",
    "    pickle.dump(cc, handle)\n"
   ]
  },
  {
   "cell_type": "markdown",
   "id": "02bff63f",
   "metadata": {},
   "source": [
    "Let's give it a try to play with encoder and decoder for \"Amount\" and \"Merchant City\" columns"
   ]
  },
  {
   "cell_type": "code",
   "execution_count": null,
   "id": "ca2f95ba",
   "metadata": {},
   "outputs": [],
   "source": [
    "float_str = '134.09'\n",
    "token_ids = cc.encode('Amount', float_str)\n",
    "print('token ids for {} is {}'.format(float_str, token_ids))\n",
    "amt_str = cc.decode('Amount', token_ids)\n",
    "print('recovered Amt for {} is {}'.format(float_str, amt_str))\n",
    "\n",
    "city_str = 'Monterey Park'\n",
    "token_ids = cc.encode('Merchant City', city_str)\n",
    "print('token ids for {} is {}'.format(city_str, token_ids))\n",
    "amt_str = cc.decode('Merchant City', token_ids)\n",
    "print('recovered City for {} is {}'.format(city_str, amt_str))"
   ]
  },
  {
   "cell_type": "markdown",
   "id": "89e1e5b3",
   "metadata": {},
   "source": [
    "Using 3 tokens for the float column \"Amount\", this is a tiny loss of accuracy. If better accuracy is needed, more tokens can be used to train the tokenizer. For the categorical column \"Merchant City\", the string \"Monterey Park\" only needs one token to encode it. Once we have the encoder and decoder ready, the tokenizer is easy to implement. We can consider the tabular data structure information to encode each of the columns. The decoding simply counts the number of tokens to infer the tabular structure since the number of the tokens are fixed for each of the columns.\n",
    "\n",
    "There is one more thing that we need to take special care of before generating the loose json file for Megatron. `<|endoftext|>` is a special token that NeMo Megatron recognizes to indicate the beginning and end of the document. The attention mask will stop at the boundary of `<|endoftext|>` token so no attention can be applied across it. To model the temporal information in the time series, we want to make sure the `<|endoftext|>` is added between the continuous sections. For example, in this credit card dataset, there are 2000 users. Each user's transactions are one long time series sequence. We split the long time series into smaller overlapping pieces with some strike number. The `<|endoftext|>` is only added at the end of the long sequences but not in between. In this way, NeMo Megatron applies attention to learn the temporal correlation in the transactions for the user but not across users. \n",
    "\n",
    "We have provided the Python code to convert the CSV file into the loose json format."
   ]
  },
  {
   "cell_type": "code",
   "execution_count": null,
   "id": "5e9b5727",
   "metadata": {},
   "outputs": [],
   "source": [
    "import json\n",
    "import functools\n",
    "from multiprocessing import Pool\n",
    "\n",
    "delimiter = ','\n",
    "eod_str = '<|endoftext|>'\n",
    "int_nan = '<NA>'\n",
    "\n",
    "\n",
    "def get_docs_from_df(one_group):\n",
    "    user_df = one_group[1]\n",
    "    total = []\n",
    "    # sort the rows by time, so the model can learn temporal info\n",
    "    sub_df = user_df.sort_values(['Year', 'Month', 'Day', 'Hour', 'Minute'])[columns]\n",
    "    start_rows = range(0, doc_augements)\n",
    "    full_msgs = []\n",
    "    for start in start_rows:\n",
    "        full_msgs = []\n",
    "        doc_df = sub_df.iloc[start:]\n",
    "        count = 0\n",
    "        df_size = len(doc_df)       \n",
    "        for row in doc_df.iterrows():\n",
    "            count += 1\n",
    "            items = row[1].values\n",
    "            str_items = [str(items[i]).replace(int_nan, 'nan') for i in range(len(items))]\n",
    "            if count == df_size:\n",
    "                # append eod at the end of the doc\n",
    "                full_msgs.append(delimiter.join(str_items)+eod_str)\n",
    "            else:\n",
    "                full_msgs.append(delimiter.join(str_items))\n",
    "        # use end of line to seperate rows\n",
    "        text = '\\n'.join(full_msgs)\n",
    "        text_doc = {'text': text}\n",
    "        doc = json.dumps(text_doc)+'\\n'\n",
    "        total.append(doc)\n",
    "    return total\n",
    "\n",
    "\n",
    "def gen_one_doc(user_group, n_cores):\n",
    "    udfs = list(user_group)\n",
    "    pool = Pool(n_cores)\n",
    "    docs = pool.map(get_docs_from_df, udfs)\n",
    "    pool.close()\n",
    "    pool.join()\n",
    "    return functools.reduce(lambda a, b: a + b, docs)\n",
    "\n",
    "# number of document augmentation\n",
    "doc_augements = 2\n",
    "\n",
    "user_group = df.groupby('User')\n",
    "\n",
    "with open('credit_card.jn', 'w') as f:\n",
    "    docs = gen_one_doc(user_group, 30)\n",
    "    for doc in docs:\n",
    "        f.write(doc)"
   ]
  },
  {
   "cell_type": "markdown",
   "id": "05ebadc3",
   "metadata": {},
   "source": [
    "After running the above cell, it converts the CSV file to the loose json format that the Megatron can use."
   ]
  },
  {
   "cell_type": "markdown",
   "id": "2fe38a29",
   "metadata": {},
   "source": [
    "Having the loose JSON file ready, we can test the customized Tabular Tokenizer."
   ]
  },
  {
   "cell_type": "code",
   "execution_count": null,
   "id": "1d9d065e",
   "metadata": {},
   "outputs": [],
   "source": [
    "tokenizer = TabularTokenizer(CC_OUTPUT_P, delimiter=',')\n",
    "\n",
    "with open('credit_card.jn', 'r') as f:\n",
    "    for line in f:\n",
    "        break\n",
    "\n",
    "text = json.loads(line)['text']\n",
    "r = tokenizer.text_to_tokens(text)\n",
    "ids = tokenizer.tokens_to_ids(r)\n",
    "tex = tokenizer.ids_to_tokens(ids)\n",
    "decoded_text = tokenizer.ids_to_text(ids)\n",
    "show_num_lines = 5\n",
    "print('raw input text\\n', '\\n'.join(text.split('\\n')[:show_num_lines]))\n",
    "print('tokens\\n', r[:show_num_lines*len(tokenizer.code_column.columns)])\n",
    "print('token ids\\n', ids[:show_num_lines*(sum(tokenizer.code_column.sizes)+1)])\n",
    "print('decoded tokens\\n', tex[:show_num_lines*(sum(tokenizer.code_column.sizes)+1)])\n",
    "print('decoded text\\n', '\\n'.join(decoded_text.split('\\n')[:show_num_lines]))"
   ]
  },
  {
   "cell_type": "markdown",
   "id": "678f65ef",
   "metadata": {},
   "source": [
    "The TabularTokenizer understands the Table structure so it can convert back and forth between the tabular data text and the token ids.\n",
    "\n",
    "\n",
    "### Model configuration\n",
    "\n",
    "\n",
    "The `model_config.sh` file defines the model architecture and file paths. Please edit it to fits your computation environment.\n",
    "\n",
    "```bash\n",
    "# Runs the \"600M\" parameter model\n",
    "GPUS_PER_NODE=4\n",
    "# Change for multinode config\n",
    "MASTER_ADDR=localhost\n",
    "MASTER_PORT=6000\n",
    "NNODES=1\n",
    "NODE_RANK=0\n",
    "WORLD_SIZE=$(($GPUS_PER_NODE*$NNODES))\n",
    "\n",
    "DISTRIBUTED_ARGS=\"--nproc_per_node $GPUS_PER_NODE --nnodes $NNODES --node_rank $NODE_RANK --master_addr $MASTER_ADDR --master_port $MASTER_PORT\"\n",
    "\n",
    "\n",
    "OUTPUT_PAHT=checkpoints\n",
    "PROJECT_NAME=creditcard\n",
    "INPUT_FILE=credit_card.jn\n",
    "DATA_PATH=${PROJECT_NAME}_text_document\n",
    "CHECKPOINT_PATH=${OUTPUT_PAHT}/gpt_${PROJECT_NAME}\n",
    "LOADPATH=${OUTPUT_PAHT}/gpt_${PROJECT_NAME}\n",
    "TB_PATH=${OUTPUT_PAHT}/checkpoints/tb\n",
    "\n",
    "TENSOR_MP_SIZE=1\n",
    "PIPELINE_MP_SIZE=1\n",
    "\n",
    "#model archi\n",
    "NUM_LAYERS=48\n",
    "HIDDEN_SIZE=1024\n",
    "NUM_HEADS=16\n",
    "SEQ_LEN=2048\n",
    "MAX_POS_EMD=2048\n",
    "\n",
    "\n",
    "VOCAB_FILE=credit_card_coder.pickle\n",
    "TOKENIZER=TabularTokenizer\n",
    "```"
   ]
  },
  {
   "cell_type": "code",
   "execution_count": null,
   "id": "97571acc",
   "metadata": {},
   "outputs": [],
   "source": [
    "NUM_LAYERS = 4\n",
    "HIDDEN_SIZE = 1024\n",
    "NUM_ATTENTION_HEADS = 16\n",
    "SEQ_LENGTH = 1024\n",
    "TENSOR_MP_SIZE = 1\n",
    "PIPELINE_MP_SIZE = 1"
   ]
  },
  {
   "cell_type": "markdown",
   "id": "8af66b4a",
   "metadata": {},
   "source": [
    "### Preprocess\n",
    "\n",
    "The loose json above is processed into a binary format for training. To convert the json into mmap, cached index file use preprocess_data.py. \n",
    "\n",
    "Use the `preprocess_data_for_megatron.py` script to prepare data for GPT training:\n",
    "It uses `40` workers to do the preprocess step in parallel. Please adjust it for your enviroment.  "
   ]
  },
  {
   "cell_type": "code",
   "execution_count": null,
   "id": "fccee06c",
   "metadata": {
    "scrolled": true
   },
   "outputs": [],
   "source": [
    "wget.download(f'https://raw.githubusercontent.com/NVIDIA/NeMo/{BRANCH}/scripts/nlp_language_modeling/preprocess_data_for_megatron.py')"
   ]
  },
  {
   "cell_type": "code",
   "execution_count": null,
   "id": "79de4531",
   "metadata": {},
   "outputs": [],
   "source": [
    "!python preprocess_data_for_megatron.py \\\n",
    "    --input={CC_OUTPUT_J} \\\n",
    "    --json-keys=text \\\n",
    "    --tokenizer-library=tabular \\\n",
    "    --vocab-file={CC_OUTPUT_P} \\\n",
    "    --tokenizer-type=Tabular \\\n",
    "    --output-prefix=tabular_data \\\n",
    "    --delimiter=, \\\n",
    "    --workers=30\n"
   ]
  },
  {
   "cell_type": "markdown",
   "id": "6ecec681",
   "metadata": {},
   "source": [
    "After running the script, two new files are generated in the current directory: `creditcard_text_document.bin` and `creditcard_text_document.idx`. The `bin` file is the mmap binary file and the `idx` is the cached index file. They will be used for the following pre-training step."
   ]
  },
  {
   "cell_type": "code",
   "execution_count": null,
   "id": "4998ebcb",
   "metadata": {},
   "outputs": [],
   "source": [
    "!ls $DATA_PATH/tabular*.*"
   ]
  },
  {
   "cell_type": "code",
   "execution_count": null,
   "id": "749fd8df",
   "metadata": {},
   "outputs": [],
   "source": [
    "wget.download(f'https://raw.githubusercontent.com/NVIDIA/NeMo/{BRANCH}/examples/nlp/language_modeling/megatron_gpt_pretraining.py')"
   ]
  },
  {
   "cell_type": "code",
   "execution_count": null,
   "id": "c7665cee",
   "metadata": {},
   "outputs": [],
   "source": [
    "    !python megatron_gpt_pretraining.py \\\n",
    "                trainer.devices=1 \\\n",
    "                trainer.accelerator=gpu \\\n",
    "                trainer.log_every_n_steps=100 \\\n",
    "                trainer.val_check_interval=500 \\\n",
    "                trainer.accumulate_grad_batches=1 \\\n",
    "                trainer.max_steps=10000 \\\n",
    "                trainer.precision=16 \\\n",
    "                trainer.gradient_clip_val=1.0 \\\n",
    "                exp_manager.exp_dir=gpt_creditcard_results \\\n",
    "                model.tensor_model_parallel_size=1 \\\n",
    "                model.optim.name=fused_adam \\\n",
    "                model.optim.lr=2e-4 \\\n",
    "                model.optim.sched.warmup_steps=2 \\\n",
    "                model.optim.sched.constant_steps=2 \\\n",
    "                model.optim.sched.min_lr=8e-5 \\\n",
    "                model.max_position_embeddings=1024 \\\n",
    "                model.encoder_seq_length=1024 \\\n",
    "                model.data.seq_length=1024 \\\n",
    "                model.tokenizer.type=Tabular \\\n",
    "                model.tokenizer.library=tabular \\\n",
    "                model.tokenizer.vocab_file={CC_OUTPUT_P} \\\n",
    "                model.tokenizer.delimiter=\\',\\' \\\n",
    "                model.data.eod_mask_loss=True \\\n",
    "                model.data.splits_string=\\'3800,200,0\\' \\\n",
    "                model.num_layers=4 \\\n",
    "                model.hidden_size=1024 \\\n",
    "                model.num_attention_heads=16 \\\n",
    "                model.activations_checkpoint_method='block' \\\n",
    "                model.activations_checkpoint_num_layers=1 \\\n",
    "                model.data.data_prefix=[tabular_data_text_document]"
   ]
  },
  {
   "cell_type": "markdown",
   "id": "58a3d4fa",
   "metadata": {},
   "source": [
    "### Pretrain\n",
    "\n",
    "We are ready to pretrain the GPT model. As large models can be quite difficult to train due to memory constraints, Megatron makes it possible by using both Tensor model parallel and Pipeline model parallelism that enables training transformer models with billions of parameters. Tensor model parallelism and pipeline model parallelism are orthogonal to each other. The following figure shows how to divide the large model horizontally (intra-layer) and vertically (across layers) by tensor model parallelism and pipeline model parallelism.\n",
    "\n",
    "On top of the model parallelism, we can apply the popular data parallelism to the training to fully utilize all the GPUs in the cluster. In this [paper](https://arxiv.org/pdf/2104.04473.pdf), it provides a few tips about how to setup the model parallelism and data parallelism optimally:\n",
    "\n",
    "1. When considering different forms of model parallelism, tensor model parallelism should generally be used up to degree 𝑔 when using 𝑔-GPU servers, and then pipeline model parallelism can be used to scale up to larger models across server.\n",
    "2. When using data and model parallelism, a total model-parallel size of 𝑀 = 𝑡 · 𝑝 should be used so that the model’s parameters and intermediate metadata fit in GPU memory; data parallelism can be used to scale up training to more GPUs.\n",
    "3. The optimal microbatch size 𝑏 depends on the throughput and memory footprint characteristics of the model, as well as the pipeline depth 𝑝, data-parallel size 𝑑, and batch size 𝐵.\n",
    "\n",
    "In our experiment, we only concern with training a model that fits into a single GPU. we set the tensor model parallel and pipeline model parallelism parameter to 1. In our system, we have 4 GPUs. Here is the script we used for the pretraining task.\n",
    "\n",
    "```bash\n",
    "#! /bin/bash\n",
    "source ./model_config.sh\n",
    "\n",
    "python -m torch.distributed.launch $DISTRIBUTED_ARGS \\\n",
    "       pretrain_gpt.py \\\n",
    "       --num-layers $NUM_LAYERS \\\n",
    "       --hidden-size $HIDDEN_SIZE \\\n",
    "       --num-attention-heads $NUM_HEADS \\\n",
    "       --micro-batch-size 4 \\\n",
    "       --global-batch-size 32 \\\n",
    "       --seq-length $SEQ_LEN \\\n",
    "       --max-position-embeddings $MAX_POS_EMD \\\n",
    "       --train-iters 500000 \\\n",
    "       --lr-decay-iters 320000 \\\n",
    "       --tensorboard-dir $TB_PATH \\\n",
    "       --save $CHECKPOINT_PATH \\\n",
    "       --data-path $DATA_PATH \\\n",
    "       --data-impl mmap \\\n",
    "       --split 949,50,1 \\\n",
    "       --distributed-backend nccl \\\n",
    "       --tensor-model-parallel-size $TENSOR_MP_SIZE \\\n",
    "       --pipeline-model-parallel-size $PIPELINE_MP_SIZE \\\n",
    "       --distributed-backend nccl \\\n",
    "       --lr 0.00015 \\\n",
    "       --lr-decay-style cosine \\\n",
    "       --min-lr 1.0e-5 \\\n",
    "       --weight-decay 1e-2 \\\n",
    "       --clip-grad 1.0 \\\n",
    "       --lr-warmup-fraction .01 \\\n",
    "       --checkpoint-activations \\\n",
    "       --log-interval 100 \\\n",
    "       --save-interval 5000 \\\n",
    "       --eval-interval 1000 \\\n",
    "       --eval-iters 10 \\\n",
    "       --load $LOADPATH \\\n",
    "       --vocab-file $VOCAB_FILE \\\n",
    "       --fp16\n",
    "```\n",
    "Run the pretraining task script below. Note, this is the most time consuming step. It takes days for the task to converge depending on the computation environment."
   ]
  },
  {
   "cell_type": "code",
   "execution_count": null,
   "id": "495b826d",
   "metadata": {},
   "outputs": [],
   "source": [
    "!./pretrain_step.sh"
   ]
  },
  {
   "cell_type": "markdown",
   "id": "45ac928f",
   "metadata": {},
   "source": [
    "The pretraining will save the checkpoint files periodically at the `CHECKPOINT_PATH`. `save-interval` in the script controls the frequency. We use 10k in this example. \n",
    "While the training job is running, we can use the `tensorboard` to monitor the training. Following are the training curves I have for training dataset and validation dataset.\n",
    "Clearly, the model is overfitted as shown in the validation curve. We can take the checkpoint file at the step 10k by modifying the `latest_checkpointed_iteration.txt` file to `10000` at the `CHECKPOINT_PATH`. Let's check the checkpoint files it generates"
   ]
  },
  {
   "cell_type": "markdown",
   "id": "158a4bbe",
   "metadata": {},
   "source": [
    "jj## Convert checkpoint to nemo file"
   ]
  },
  {
   "cell_type": "code",
   "execution_count": null,
   "id": "46cecf96",
   "metadata": {},
   "outputs": [],
   "source": [
    "wget.download(f'https://raw.githubusercontent.com/NVIDIA/NeMo/{BRANCH}/examples/nlp/language_modeling/megatron_ckpt_to_nemo.py')"
   ]
  },
  {
   "cell_type": "code",
   "execution_count": null,
   "id": "cd7fd084",
   "metadata": {},
   "outputs": [],
   "source": [
    "!python -m torch.distributed.launch --nproc_per_node=1 megatron_ckpt_to_nemo.py \\\n",
    "    --checkpoint_folder=gpt_creditcard_results/megatron_gpt/checkpoints/ \\\n",
    "    --checkpoint_name=megatron_gpt--val_loss=1.17-step=10047-consumed_samples=80376.0-last.ckpt \\\n",
    "    --nemo_file_path=tabular.nemo \\\n",
    "    --tensor_model_parallel_size=1 \\\n",
    "    --pipeline_model_parallel_size=1 \\\n",
    "    --gpus_per_node=1 \\\n",
    "    --model_type=gpt"
   ]
  },
  {
   "cell_type": "code",
   "execution_count": null,
   "id": "c0d92d9e",
   "metadata": {},
   "outputs": [],
   "source": [
    "!ls checkpoints/gpt_600m_credit_card\n"
   ]
  },
  {
   "cell_type": "code",
   "execution_count": null,
   "id": "5e1da66f",
   "metadata": {},
   "outputs": [],
   "source": []
  },
  {
   "cell_type": "markdown",
   "id": "ed056ec6",
   "metadata": {},
   "source": [
    "### Generate synthetic credit card transactions\n",
    "\n",
    "We come to the last step of this workshop - generate synthetic credit card transactions!\n",
    "\n",
    "First let's load the trained model weights, put the Megatron GPT in inference mode and start the text generation server. All of these can be done by running the `run_data_gen_server.sh` script. Open another Jupyter notebook, and run the following in a cell. \n",
    "```bash\n",
    "!./run_data_gen_server.sh\n",
    "```\n",
    "The text generation server accepts REST API request to send the generated text in the response. Let's use the following Python code to generate some transactions."
   ]
  },
  {
   "cell_type": "code",
   "execution_count": null,
   "id": "59ab7c9b",
   "metadata": {},
   "outputs": [],
   "source": [
    "wget.download(f'https://raw.githubusercontent.com/NVIDIA/NeMo/{BRANCH}/examples/nlp/language_modeling/megatron_gpt_eval.py')"
   ]
  },
  {
   "cell_type": "code",
   "execution_count": null,
   "id": "b4c82af2",
   "metadata": {},
   "outputs": [],
   "source": [
    "!python megatron_gpt_eval.py \\\n",
    "    model_file=tabular.nemo"
   ]
  },
  {
   "cell_type": "code",
   "execution_count": null,
   "id": "ebd6f637",
   "metadata": {},
   "outputs": [],
   "source": [
    "import requests\n",
    "import json\n",
    "from coder.column_code import ColumnCodes\n",
    "import pickle\n",
    "\n",
    "with open('credit_card_coder.pickle', 'rb') as handle:\n",
    "        cc: ColumnCodes = pickle.load(handle)\n",
    "\n",
    "token_per_rows = sum(cc.sizes) + 1\n",
    "\n",
    "batch_size = 16\n",
    "port_num = 5000\n",
    "num_of_rows = 30\n",
    "headers = {\"Content-Type\": \"application/json\"}\n",
    "\n",
    "\n",
    "def request_data(data):\n",
    "    resp = requests.put('http://localhost:{}/generate'.format(port_num),\n",
    "                        data=json.dumps(data), headers=headers)\n",
    "    sentences = resp.json()['sentences']\n",
    "    return sentences\n",
    "\n",
    "\n",
    "# generate the inital transactions \n",
    "data = {\n",
    "    \"sentences\": [\"\"] * batch_size,\n",
    "    \"tokens_to_generate\": num_of_rows * token_per_rows,\n",
    "    \"temperate\": 1.0,\n",
    "    \"add_BOS\": True\n",
    "}\n",
    "\n",
    "sentences = request_data(data)\n",
    "\n",
    "for i in range(batch_size):\n",
    "    s = sentences[i]\n",
    "    print(s)"
   ]
  },
  {
   "cell_type": "markdown",
   "id": "cccd54d9",
   "metadata": {},
   "source": [
    "The above code only generate `num_of_rows` of transactions starting from the beginning. If longer sequence is needed, we can run the inference conditioned on the past transactions in a sliding window fashion. For example, first it generates [A, B, C, D, E] transactions conditioned on `<|endoftext|>` token. Then, it conditions on [D, E] and generates [D, E, F, G, H]. Once the long sequence comes to the end indicated by `<|endoftext|>`, it will keep generating new transactions for a different user. For example, after generating [X, Y, Z, <|endoftext|>] in the last run, it will generate [Z, <|endoftext|>, A', B', C'] in the next time, where A', B', C' are transactions for a different user and they are not depending on the other users transaction Z.  \n",
    "\n",
    "The following code implements the idea above and can be used to generate massive number of transactions in long sequences:"
   ]
  },
  {
   "cell_type": "code",
   "execution_count": null,
   "id": "e4b80ab0",
   "metadata": {},
   "outputs": [],
   "source": [
    "import requests\n",
    "import json\n",
    "from coder.column_code import ColumnCodes\n",
    "import pickle\n",
    "\n",
    "with open('credit_card_coder.pickle', 'rb') as handle:\n",
    "        cc: ColumnCodes = pickle.load(handle)\n",
    "\n",
    "# batch_size = 32\n",
    "batch_size = 16\n",
    "num_of_rows = 50\n",
    "token_per_rows = sum(cc.sizes) + 1\n",
    "history_rows = 40\n",
    "num_of_blocks = 3000\n",
    "\n",
    "port_num = 5000\n",
    "headers = {\"Content-Type\": \"application/json\"}\n",
    "\n",
    "prefix_name = 'synthetic'\n",
    "files = []\n",
    "\n",
    "\n",
    "for i in range(batch_size):\n",
    "    files.append(open(\"{}_{}.txt\".format(prefix_name, i), 'w'))\n",
    "\n",
    "\n",
    "def request_data(data):\n",
    "    resp = requests.put('http://localhost:{}/generate'.format(port_num),\n",
    "                        data=json.dumps(data), headers=headers)\n",
    "    sentences = resp.json()['sentences']\n",
    "    return sentences\n",
    "\n",
    "\n",
    "def get_condition_text(sentences, history_rows):\n",
    "    condition_text = ['\\n'.join([ss for ss in s.split(\n",
    "        '\\n')[-(history_rows+1):]]) for s in sentences]\n",
    "    return condition_text\n",
    "\n",
    "\n",
    "def get_extra_text(sentences, history_rows):\n",
    "    extra_text = ['\\n'.join([ss for ss in s.split(\n",
    "        '\\n')[history_rows:]]) for s in sentences]\n",
    "    return extra_text\n",
    "\n",
    "# generate the inital transactions \n",
    "data = {\n",
    "    \"sentences\": [\"\"] * batch_size,\n",
    "    \"tokens_to_generate\": num_of_rows * token_per_rows,\n",
    "    \"temperate\": 1.0,\n",
    "    \"add_BOS\": True\n",
    "}\n",
    "\n",
    "sentences = request_data(data)\n",
    "\n",
    "for i in range(batch_size):\n",
    "    s = sentences[i]\n",
    "    files[i].write(s.replace('<|endoftext|>', '\\n'))\n",
    "\n",
    "# generate the transactions conditioned on the previous ones\n",
    "for block in range(num_of_blocks):\n",
    "    print(\"block id: {}\".format(block))\n",
    "    condition_text = get_condition_text(sentences, history_rows)\n",
    "    # print('conditional text')\n",
    "    # for s in condition_text:\n",
    "    #     print(s)\n",
    "\n",
    "    data = {\n",
    "        \"sentences\": condition_text,\n",
    "        \"tokens_to_generate\": num_of_rows * token_per_rows,\n",
    "        \"temperate\": 1.0,\n",
    "        \"add_BOS\": False\n",
    "    }\n",
    "\n",
    "    sentences = request_data(data)\n",
    "\n",
    "    # print('final ')\n",
    "    # for s in sentences:\n",
    "    #     print(s)\n",
    "\n",
    "    extra_text = get_extra_text(sentences, history_rows)\n",
    "\n",
    "    for i in range(batch_size):\n",
    "        s = extra_text[i]\n",
    "        files[i].write(s.replace('<|endoftext|>', '\\n'))\n",
    "        files[i].flush()\n",
    "\n",
    "\n",
    "for i in range(batch_size):\n",
    "    files[i].close()"
   ]
  },
  {
   "cell_type": "markdown",
   "id": "0f2f6e3a",
   "metadata": {},
   "source": [
    "That's it! In this workshop, you have learned how to train a Megatron GPT model to generate synthetic data. Go ahead and apply it for your own data."
   ]
  },
  {
   "cell_type": "code",
   "execution_count": null,
   "id": "bb9fa86d",
   "metadata": {},
   "outputs": [],
   "source": []
  }
 ],
 "metadata": {
  "kernelspec": {
   "display_name": "Python 3 (ipykernel)",
   "language": "python",
   "name": "python3"
  },
  "language_info": {
   "codemirror_mode": {
    "name": "ipython",
    "version": 3
   },
   "file_extension": ".py",
   "mimetype": "text/x-python",
   "name": "python",
   "nbconvert_exporter": "python",
   "pygments_lexer": "ipython3",
   "version": "3.8.12"
  }
 },
 "nbformat": 4,
 "nbformat_minor": 5
}
